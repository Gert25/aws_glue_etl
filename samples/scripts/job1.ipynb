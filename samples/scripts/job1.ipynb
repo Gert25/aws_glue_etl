{
 "cells": [
  {
   "cell_type": "code",
   "execution_count": 4,
   "metadata": {},
   "outputs": [
    {
     "data": {
      "application/vnd.jupyter.widget-view+json": {
       "model_id": "",
       "version_major": 2,
       "version_minor": 0
      },
      "text/plain": [
       "FloatProgress(value=0.0, bar_style='info', description='Progress:', layout=Layout(height='25px', width='50%'),…"
      ]
     },
     "metadata": {},
     "output_type": "display_data"
    },
    {
     "name": "stdout",
     "output_type": "stream",
     "text": [
      "          EmployeeName         Agency\n",
      "0       NATHANIEL FORD  San Francisco\n",
      "1         GARY JIMENEZ  San Francisco\n",
      "2       ALBERT PARDINI  San Francisco\n",
      "3    CHRISTOPHER CHONG  San Francisco\n",
      "4      PATRICK GARDNER  San Francisco\n",
      "5       DAVID SULLIVAN  San Francisco\n",
      "6            ALSON LEE  San Francisco\n",
      "7        DAVID KUSHNER  San Francisco\n",
      "8       MICHAEL MORRIS  San Francisco\n",
      "9   JOANNE HAYES-WHITE  San Francisco\n",
      "10       ARTHUR KENNEY  San Francisco\n",
      "11    PATRICIA JACKSON  San Francisco\n",
      "12   EDWARD HARRINGTON  San Francisco\n",
      "13         JOHN MARTIN  San Francisco\n",
      "14      DAVID FRANKLIN  San Francisco\n",
      "15     RICHARD CORRIEA  San Francisco\n",
      "16            AMY HART  San Francisco\n",
      "17      SEBASTIAN WONG  San Francisco\n",
      "18          MARTY ROSS  San Francisco\n",
      "19       ELLEN MOFFATT  San Francisco"
     ]
    }
   ],
   "source": [
    "import pandas as pd \n",
    "import os \n",
    "from pathlib import Path \n",
    "\n",
    "\n",
    "def get_directories(path):\n",
    "    for subdir, dirs, files in os.walk('./'):\n",
    "        print(subdir)\n",
    "\n",
    "# get_directories(\"./\")\n",
    "\n",
    "cwd = \"/home/jupyter/jupyter_default_dir\"\n",
    "\n",
    "\n",
    "# # Path\n",
    "csv_data = pd.read_csv(f'{cwd}/data/Salaries.csv')\n",
    "csv_compensation = pd.read_csv(f'{cwd}/data/compensation.csv')\n",
    "pd.set_option('display.max_columns', 2)\n",
    "\n",
    "\n",
    "csv_data[[\"EmployeeName\", \"Agency\"]].head(20)\n",
    "\n",
    "\n"
   ]
  },
  {
   "cell_type": "code",
   "execution_count": 5,
   "metadata": {},
   "outputs": [
    {
     "data": {
      "application/vnd.jupyter.widget-view+json": {
       "model_id": "",
       "version_major": 2,
       "version_minor": 0
      },
      "text/plain": [
       "FloatProgress(value=0.0, bar_style='info', description='Progress:', layout=Layout(height='25px', width='50%'),…"
      ]
     },
     "metadata": {},
     "output_type": "display_data"
    },
    {
     "name": "stdout",
     "output_type": "stream",
     "text": [
      "<class 'pandas.core.frame.DataFrame'>"
     ]
    }
   ],
   "source": [
    "type(csv_data)"
   ]
  },
  {
   "cell_type": "code",
   "execution_count": 15,
   "metadata": {},
   "outputs": [
    {
     "data": {
      "application/vnd.jupyter.widget-view+json": {
       "model_id": "",
       "version_major": 2,
       "version_minor": 0
      },
      "text/plain": [
       "FloatProgress(value=0.0, bar_style='info', description='Progress:', layout=Layout(height='25px', width='50%'),…"
      ]
     },
     "metadata": {},
     "output_type": "display_data"
    },
    {
     "name": "stdout",
     "output_type": "stream",
     "text": [
      "##########################Salary##################\n",
      "<class 'pandas.core.frame.DataFrame'>\n",
      "RangeIndex: 148654 entries, 0 to 148653\n",
      "Data columns (total 13 columns):\n",
      "Id                  148654 non-null int64\n",
      "EmployeeName        148654 non-null object\n",
      "JobTitle            148654 non-null object\n",
      "BasePay             148049 non-null object\n",
      "OvertimePay         148654 non-null object\n",
      "OtherPay            148654 non-null object\n",
      "Benefits            148654 non-null object\n",
      "TotalPay            148654 non-null float64\n",
      "TotalPayBenefits    148654 non-null float64\n",
      "Year                148654 non-null int64\n",
      "Notes               0 non-null float64\n",
      "Agency              148654 non-null object\n",
      "Status              38119 non-null object\n",
      "dtypes: float64(3), int64(2), object(8)\n",
      "memory usage: 14.7+ MB\n",
      "##########################Copensation##################\n",
      "<class 'pandas.core.frame.DataFrame'>\n",
      "RangeIndex: 291825 entries, 0 to 291824\n",
      "Data columns (total 22 columns):\n",
      "Year Type                  291825 non-null object\n",
      "Year                       291825 non-null int64\n",
      "Organization Group Code    291825 non-null int64\n",
      "Organization Group         291825 non-null object\n",
      "Department Code            291825 non-null object\n",
      "Department                 291825 non-null object\n",
      "Union Code                 291782 non-null float64\n",
      "Union                      291782 non-null object\n",
      "Job Family Code            291780 non-null object\n",
      "Job Family                 291780 non-null object\n",
      "Job Code                   291825 non-null object\n",
      "Job                        291825 non-null object\n",
      "Employee Identifier        291825 non-null int64\n",
      "Salaries                   291825 non-null float64\n",
      "Overtime                   291825 non-null float64\n",
      "Other Salaries             291825 non-null float64\n",
      "Total Salary               291825 non-null float64\n",
      "Retirement                 291825 non-null float64\n",
      "Health/Dental              291825 non-null float64\n",
      "Other Benefits             291825 non-null float64\n",
      "Total Benefits             291825 non-null float64\n",
      "Total Compensation         291825 non-null float64\n",
      "dtypes: float64(10), int64(3), object(9)\n",
      "memory usage: 49.0+ MB"
     ]
    }
   ],
   "source": [
    "import sys\n",
    "from pyspark.context import SparkContext\n",
    "from awsglue.context import GlueContext\n",
    "from awsglue.transforms import *\n",
    "from awsglue.dynamicframe import DynamicFrame\n",
    "from pyspark.sql.types import *\n",
    "from pyspark.sql import Row\n",
    "print(\"##########################Salary##################\")\n",
    "csv_data.info()\n",
    "print(\"##########################Copensation##################\")\n",
    "csv_compensation.info()\n"
   ]
  },
  {
   "cell_type": "code",
   "execution_count": 7,
   "metadata": {},
   "outputs": [
    {
     "data": {
      "application/vnd.jupyter.widget-view+json": {
       "model_id": "",
       "version_major": 2,
       "version_minor": 0
      },
      "text/plain": [
       "FloatProgress(value=0.0, bar_style='info', description='Progress:', layout=Layout(height='25px', width='50%'),…"
      ]
     },
     "metadata": {},
     "output_type": "display_data"
    },
    {
     "name": "stdout",
     "output_type": "stream",
     "text": [
      "    Year                             Job\n",
      "0   2016       Attorney (Civil/Criminal)\n",
      "1   2013     Senior Management Assistant\n",
      "2   2015              Eligibility Worker\n",
      "3   2015                     Dental Aide\n",
      "4   2014               Recreation Leader\n",
      "5   2013  Stdntdsgntrain1, Arch/Eng/Plng\n",
      "6   2015               Library Assistant\n",
      "7   2014         Real Property Appraiser\n",
      "8   2015  Lieutenant (Police Department)\n",
      "9   2014                  Deputy Sheriff\n",
      "10  2015      Publ Svc Aide-Asst To Prof\n",
      "11  2013                Street Inspector\n",
      "12  2015         Park Section Supervisor\n",
      "13  2013                Transit Operator\n",
      "14  2016               Personnel Analyst\n",
      "15  2014         Media/Security Sys Spec\n",
      "16  2015                Transit Operator\n",
      "17  2014     Station Agent, Muni Railway\n",
      "18  2014       Attorney (Civil/Criminal)\n",
      "19  2015         Water Service Inspector"
     ]
    }
   ],
   "source": [
    "csv_compensation[[\"Year\", \"Job\"]].head(20)"
   ]
  },
  {
   "cell_type": "markdown",
   "metadata": {},
   "source": [
    "# DynamicFrame\n",
    "\n",
    "A DynamicFrame is similar to a DataFrame, except that each record is self-describing, **so no schema is required** initially. Instead, AWS Glue **computes a schema on-the-fly** when required. We convert the df_orders DataFrame into a DynamicFrame."
   ]
  },
  {
   "cell_type": "code",
   "execution_count": 10,
   "metadata": {},
   "outputs": [
    {
     "data": {
      "application/vnd.jupyter.widget-view+json": {
       "model_id": "",
       "version_major": 2,
       "version_minor": 0
      },
      "text/plain": [
       "FloatProgress(value=0.0, bar_style='info', description='Progress:', layout=Layout(height='25px', width='50%'),…"
      ]
     },
     "metadata": {},
     "output_type": "display_data"
    },
    {
     "name": "stdout",
     "output_type": "stream",
     "text": [
      "root\n",
      " |-- Id: long (nullable = true)\n",
      " |-- JobTitle: string (nullable = true)\n",
      " |-- TotalPay: double (nullable = true)\n",
      " |-- Year: long (nullable = true)\n",
      " |-- Benefits: string (nullable = true)"
     ]
    }
   ],
   "source": [
    "# Create spark frames\n",
    "csv_data = csv_data.astype({\"Benefits\": str}) # Needed to be converted since there was an error with converting types\n",
    "sparkDF = spark.createDataFrame(csv_data[['Id', 'JobTitle', 'TotalPay', 'Year', 'Benefits']])\n",
    "sparkDF.printSchema()"
   ]
  },
  {
   "cell_type": "code",
   "execution_count": 13,
   "metadata": {},
   "outputs": [
    {
     "data": {
      "application/vnd.jupyter.widget-view+json": {
       "model_id": "",
       "version_major": 2,
       "version_minor": 0
      },
      "text/plain": [
       "FloatProgress(value=0.0, bar_style='info', description='Progress:', layout=Layout(height='25px', width='50%'),…"
      ]
     },
     "metadata": {},
     "output_type": "display_data"
    },
    {
     "name": "stdout",
     "output_type": "stream",
     "text": [
      "root\n",
      " |-- Year: long (nullable = true)\n",
      " |-- Job: string (nullable = true)\n",
      " |-- Total Salary: double (nullable = true)"
     ]
    }
   ],
   "source": [
    "spark_comp = spark.createDataFrame(csv_compensation[[\"Year\", \"Job\",\"Total Salary\" ]])\n",
    "spark_comp = spark_comp.printSchema()"
   ]
  },
  {
   "cell_type": "code",
   "execution_count": 17,
   "metadata": {},
   "outputs": [
    {
     "data": {
      "application/vnd.jupyter.widget-view+json": {
       "model_id": "",
       "version_major": 2,
       "version_minor": 0
      },
      "text/plain": [
       "FloatProgress(value=0.0, bar_style='info', description='Progress:', layout=Layout(height='25px', width='50%'),…"
      ]
     },
     "metadata": {},
     "output_type": "display_data"
    }
   ],
   "source": [
    "glueContext = GlueContext(SparkContext.getOrCreate()) # Generate a glue context from the spark context"
   ]
  },
  {
   "cell_type": "code",
   "execution_count": 18,
   "metadata": {},
   "outputs": [
    {
     "data": {
      "application/vnd.jupyter.widget-view+json": {
       "model_id": "",
       "version_major": 2,
       "version_minor": 0
      },
      "text/plain": [
       "FloatProgress(value=0.0, bar_style='info', description='Progress:', layout=Layout(height='25px', width='50%'),…"
      ]
     },
     "metadata": {},
     "output_type": "display_data"
    },
    {
     "name": "stdout",
     "output_type": "stream",
     "text": [
      "+---+--------------------+---------+----+--------+\n",
      "| Id|            JobTitle| TotalPay|Year|Benefits|\n",
      "+---+--------------------+---------+----+--------+\n",
      "|  1|GENERAL MANAGER-M...|567595.43|2011|     nan|\n",
      "|  2|CAPTAIN III (POLI...|538909.28|2011|     nan|\n",
      "|  3|CAPTAIN III (POLI...|335279.91|2011|     nan|\n",
      "|  4|WIRE ROPE CABLE M...|332343.61|2011|     nan|\n",
      "|  5|DEPUTY CHIEF OF D...|326373.19|2011|     nan|\n",
      "|  6|ASSISTANT DEPUTY ...|316285.74|2011|     nan|\n",
      "|  7|BATTALION CHIEF, ...|315981.05|2011|     nan|\n",
      "|  8|DEPUTY DIRECTOR O...|307899.46|2011|     nan|\n",
      "|  9|BATTALION CHIEF, ...|303427.55|2011|     nan|\n",
      "| 10|CHIEF OF DEPARTME...|302377.73|2011|     nan|\n",
      "+---+--------------------+---------+----+--------+\n",
      "only showing top 10 rows"
     ]
    }
   ],
   "source": [
    "dyf = DynamicFrame.fromDF(sparkDF, glueContext, \"dyf\")\n",
    "dyf.toDF().show(10)"
   ]
  },
  {
   "cell_type": "markdown",
   "metadata": {},
   "source": [
    "# ApplyMapping\n",
    "\n",
    "The columns in our data might be in different formats, and you may want to change their respective names. ApplyMapping is the best option for changing the names and formatting all the columns collectively"
   ]
  },
  {
   "cell_type": "code",
   "execution_count": 19,
   "metadata": {},
   "outputs": [
    {
     "data": {
      "application/vnd.jupyter.widget-view+json": {
       "model_id": "",
       "version_major": 2,
       "version_minor": 0
      },
      "text/plain": [
       "FloatProgress(value=0.0, bar_style='info', description='Progress:', layout=Layout(height='25px', width='50%'),…"
      ]
     },
     "metadata": {},
     "output_type": "display_data"
    },
    {
     "name": "stdout",
     "output_type": "stream",
     "text": [
      "+---+--------------------+---------+----+--------+\n",
      "| id|           job_title|total_pay|year|benefits|\n",
      "+---+--------------------+---------+----+--------+\n",
      "|  1|GENERAL MANAGER-M...|567595.43|2011|     nan|\n",
      "|  2|CAPTAIN III (POLI...|538909.28|2011|     nan|\n",
      "|  3|CAPTAIN III (POLI...|335279.91|2011|     nan|\n",
      "|  4|WIRE ROPE CABLE M...|332343.61|2011|     nan|\n",
      "|  5|DEPUTY CHIEF OF D...|326373.19|2011|     nan|\n",
      "|  6|ASSISTANT DEPUTY ...|316285.74|2011|     nan|\n",
      "|  7|BATTALION CHIEF, ...|315981.05|2011|     nan|\n",
      "|  8|DEPUTY DIRECTOR O...|307899.46|2011|     nan|\n",
      "|  9|BATTALION CHIEF, ...|303427.55|2011|     nan|\n",
      "| 10|CHIEF OF DEPARTME...|302377.73|2011|     nan|\n",
      "| 11|ASSISTANT CHIEF O...|299494.17|2011|     nan|\n",
      "| 12|CAPTAIN III (POLI...|297608.92|2011|     nan|\n",
      "| 13|EXECUTIVE CONTRAC...|294580.02|2011|     nan|\n",
      "| 14|   DEPARTMENT HEAD V|292671.62|2011|     nan|\n",
      "| 15|BATTALION CHIEF, ...|286347.05|2011|     nan|\n",
      "| 16|COMMANDER III, (P...|286213.86|2011|     nan|\n",
      "| 17|   DEPARTMENT HEAD V|284720.43|2011|     nan|\n",
      "| 18|CAPTAIN, EMERGENC...|278569.21|2011|     nan|\n",
      "| 19|BATTALION CHIEF, ...|276434.22|2011|     nan|\n",
      "| 20|ASSISTANT MEDICAL...|274550.25|2011|     nan|\n",
      "+---+--------------------+---------+----+--------+\n",
      "only showing top 20 rows"
     ]
    }
   ],
   "source": [
    "dyf_applymapping = ApplyMapping.apply(frame=dyf , mappings = [\n",
    "    (\"Id\", \"Long\", \"id\", \"String\"),\n",
    "    (\"JobTitle\", \"String\", \"job_title\", \"String\"),\n",
    "    (\"TotalPay\", \"Double\", \"total_pay\", \"Double\"),\n",
    "    (\"Year\", \"Long\", \"year\", \"Long\"), \n",
    "    (\"Benefits\", \"String\", \"benefits\", \"string\")\n",
    "])\n",
    "\n",
    "\n",
    "                                      \n",
    "# dyf_applymapping.printSchema()\n",
    "dyf_applymapping.toDF().show()"
   ]
  },
  {
   "cell_type": "code",
   "execution_count": 121,
   "metadata": {},
   "outputs": [
    {
     "name": "stderr",
     "output_type": "stream",
     "text": [
      "An error was encountered:\n",
      "Invalid status code '404' from http://localhost:8998/sessions/2 with error payload: {\"msg\":\"Session '2' not found.\"}\n"
     ]
    }
   ],
   "source": [
    "non_nan = dyf_applymapping.toDF()\n",
    "non_nan = non_nan[ non_nan[\"benefits\"] != 'nan']\n",
    "non_nan.show()"
   ]
  },
  {
   "cell_type": "markdown",
   "metadata": {},
   "source": [
    "# Map\n",
    "\n",
    "Map allows us to apply a transformation to each record of a Dynamic Frame.\n"
   ]
  },
  {
   "cell_type": "code",
   "execution_count": 26,
   "metadata": {},
   "outputs": [
    {
     "data": {
      "application/vnd.jupyter.widget-view+json": {
       "model_id": "",
       "version_major": 2,
       "version_minor": 0
      },
      "text/plain": [
       "FloatProgress(value=0.0, bar_style='info', description='Progress:', layout=Layout(height='25px', width='50%'),…"
      ]
     },
     "metadata": {},
     "output_type": "display_data"
    },
    {
     "name": "stdout",
     "output_type": "stream",
     "text": [
      "+-----------+--------+--------------------+---------+----+---+\n",
      "|is_benefits|benefits|           job_title|total_pay|year| id|\n",
      "+-----------+--------+--------------------+---------+----+---+\n",
      "|      false|     nan|GENERAL MANAGER-M...|567595.43|2011|  1|\n",
      "|      false|     nan|CAPTAIN III (POLI...|538909.28|2011|  2|\n",
      "|      false|     nan|CAPTAIN III (POLI...|335279.91|2011|  3|\n",
      "|      false|     nan|WIRE ROPE CABLE M...|332343.61|2011|  4|\n",
      "|      false|     nan|DEPUTY CHIEF OF D...|326373.19|2011|  5|\n",
      "|      false|     nan|ASSISTANT DEPUTY ...|316285.74|2011|  6|\n",
      "|      false|     nan|BATTALION CHIEF, ...|315981.05|2011|  7|\n",
      "|      false|     nan|DEPUTY DIRECTOR O...|307899.46|2011|  8|\n",
      "|      false|     nan|BATTALION CHIEF, ...|303427.55|2011|  9|\n",
      "|      false|     nan|CHIEF OF DEPARTME...|302377.73|2011| 10|\n",
      "|      false|     nan|ASSISTANT CHIEF O...|299494.17|2011| 11|\n",
      "|      false|     nan|CAPTAIN III (POLI...|297608.92|2011| 12|\n",
      "|      false|     nan|EXECUTIVE CONTRAC...|294580.02|2011| 13|\n",
      "|      false|     nan|   DEPARTMENT HEAD V|292671.62|2011| 14|\n",
      "|      false|     nan|BATTALION CHIEF, ...|286347.05|2011| 15|\n",
      "|      false|     nan|COMMANDER III, (P...|286213.86|2011| 16|\n",
      "|      false|     nan|   DEPARTMENT HEAD V|284720.43|2011| 17|\n",
      "|      false|     nan|CAPTAIN, EMERGENC...|278569.21|2011| 18|\n",
      "|      false|     nan|BATTALION CHIEF, ...|276434.22|2011| 19|\n",
      "|      false|     nan|ASSISTANT MEDICAL...|274550.25|2011| 20|\n",
      "+-----------+--------+--------------------+---------+----+---+\n",
      "only showing top 20 rows"
     ]
    }
   ],
   "source": [
    "def convert_nan(row):\n",
    "    if row[\"benefits\"] == 'nan':\n",
    "        row[\"is_benefits\"] = False\n",
    "    else:\n",
    "        row[\"is_benefits\"] = True\n",
    "    return row\n",
    "\n",
    "mapped_dyf = Map.apply(frame = dyf_applymapping, f= convert_nan)\n",
    "\n",
    "mapped_dyf.toDF().show()"
   ]
  },
  {
   "cell_type": "code",
   "execution_count": null,
   "metadata": {},
   "outputs": [],
   "source": []
  },
  {
   "cell_type": "code",
   "execution_count": 33,
   "metadata": {},
   "outputs": [
    {
     "data": {
      "application/vnd.jupyter.widget-view+json": {
       "model_id": "",
       "version_major": 2,
       "version_minor": 0
      },
      "text/plain": [
       "FloatProgress(value=0.0, bar_style='info', description='Progress:', layout=Layout(height='25px', width='50%'),…"
      ]
     },
     "metadata": {},
     "output_type": "display_data"
    },
    {
     "name": "stdout",
     "output_type": "stream",
     "text": [
      "<class 'pyspark.sql.column.Column'>"
     ]
    }
   ],
   "source": [
    "df = dyf_applymapping.toDF()\n",
    "maximum = df[\"year\"]\n",
    "\n",
    "type(maximum)\n"
   ]
  },
  {
   "cell_type": "code",
   "execution_count": null,
   "metadata": {},
   "outputs": [],
   "source": []
  }
 ],
 "metadata": {
  "kernelspec": {
   "display_name": "PySpark",
   "language": "",
   "name": "pysparkkernel"
  },
  "language_info": {
   "codemirror_mode": {
    "name": "python",
    "version": 3
   },
   "mimetype": "text/x-python",
   "name": "pyspark",
   "pygments_lexer": "python3"
  }
 },
 "nbformat": 4,
 "nbformat_minor": 4
}
